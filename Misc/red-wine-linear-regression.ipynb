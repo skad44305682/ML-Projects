{
 "cells": [
  {
   "cell_type": "code",
   "execution_count": 1,
   "id": "36e677b3",
   "metadata": {
    "_cell_guid": "b1076dfc-b9ad-4769-8c92-a6c4dae69d19",
    "_uuid": "8f2839f25d086af736a60e9eeb907d3b93b6e0e5",
    "execution": {
     "iopub.execute_input": "2021-09-07T19:31:00.968653Z",
     "iopub.status.busy": "2021-09-07T19:31:00.967378Z",
     "iopub.status.idle": "2021-09-07T19:31:00.996348Z",
     "shell.execute_reply": "2021-09-07T19:31:00.995561Z",
     "shell.execute_reply.started": "2021-09-07T19:29:15.221926Z"
    },
    "papermill": {
     "duration": 0.061176,
     "end_time": "2021-09-07T19:31:00.996601",
     "exception": false,
     "start_time": "2021-09-07T19:31:00.935425",
     "status": "completed"
    },
    "tags": []
   },
   "outputs": [
    {
     "name": "stdout",
     "output_type": "stream",
     "text": [
      "/kaggle/input/red-wine-quality-cortez-et-al-2009/winequality-red.csv\n"
     ]
    }
   ],
   "source": [
    "# This Python 3 environment comes with many helpful analytics libraries installed\n",
    "# It is defined by the kaggle/python Docker image: https://github.com/kaggle/docker-python\n",
    "# For example, here's several helpful packages to load\n",
    "\n",
    "import numpy as np # linear algebra\n",
    "import pandas as pd # data processing, CSV file I/O (e.g. pd.read_csv)\n",
    "\n",
    "# Input data files are available in the read-only \"../input/\" directory\n",
    "# For example, running this (by clicking run or pressing Shift+Enter) will list all files under the input directory\n",
    "\n",
    "import os\n",
    "for dirname, _, filenames in os.walk('/kaggle/input'):\n",
    "    for filename in filenames:\n",
    "        print(os.path.join(dirname, filename))\n",
    "\n",
    "# You can write up to 20GB to the current directory (/kaggle/working/) that gets preserved as output when you create a version using \"Save & Run All\" \n",
    "# You can also write temporary files to /kaggle/temp/, but they won't be saved outside of the current session"
   ]
  },
  {
   "cell_type": "markdown",
   "id": "33c7a6cb",
   "metadata": {
    "papermill": {
     "duration": 0.02728,
     "end_time": "2021-09-07T19:31:01.058422",
     "exception": false,
     "start_time": "2021-09-07T19:31:01.031142",
     "status": "completed"
    },
    "tags": []
   },
   "source": [
    "Importing libraries"
   ]
  },
  {
   "cell_type": "code",
   "execution_count": 2,
   "id": "67343027",
   "metadata": {
    "execution": {
     "iopub.execute_input": "2021-09-07T19:31:01.117709Z",
     "iopub.status.busy": "2021-09-07T19:31:01.117021Z",
     "iopub.status.idle": "2021-09-07T19:31:03.082181Z",
     "shell.execute_reply": "2021-09-07T19:31:03.081101Z",
     "shell.execute_reply.started": "2021-09-07T19:29:15.244383Z"
    },
    "papermill": {
     "duration": 1.996111,
     "end_time": "2021-09-07T19:31:03.082347",
     "exception": false,
     "start_time": "2021-09-07T19:31:01.086236",
     "status": "completed"
    },
    "tags": []
   },
   "outputs": [],
   "source": [
    "import pandas as pd\n",
    "import numpy as np\n",
    "import seaborn as sns\n",
    "import matplotlib.pyplot as plt\n",
    "import statsmodels.api as sm"
   ]
  },
  {
   "cell_type": "markdown",
   "id": "e82cd103",
   "metadata": {
    "papermill": {
     "duration": 0.025911,
     "end_time": "2021-09-07T19:31:03.134213",
     "exception": false,
     "start_time": "2021-09-07T19:31:03.108302",
     "status": "completed"
    },
    "tags": []
   },
   "source": [
    "Reading Data"
   ]
  },
  {
   "cell_type": "code",
   "execution_count": 3,
   "id": "d9b13a2e",
   "metadata": {
    "execution": {
     "iopub.execute_input": "2021-09-07T19:31:03.193684Z",
     "iopub.status.busy": "2021-09-07T19:31:03.192943Z",
     "iopub.status.idle": "2021-09-07T19:31:03.247774Z",
     "shell.execute_reply": "2021-09-07T19:31:03.247176Z",
     "shell.execute_reply.started": "2021-09-07T19:29:15.975174Z"
    },
    "papermill": {
     "duration": 0.086893,
     "end_time": "2021-09-07T19:31:03.247954",
     "exception": false,
     "start_time": "2021-09-07T19:31:03.161061",
     "status": "completed"
    },
    "tags": []
   },
   "outputs": [
    {
     "data": {
      "text/html": [
       "<div>\n",
       "<style scoped>\n",
       "    .dataframe tbody tr th:only-of-type {\n",
       "        vertical-align: middle;\n",
       "    }\n",
       "\n",
       "    .dataframe tbody tr th {\n",
       "        vertical-align: top;\n",
       "    }\n",
       "\n",
       "    .dataframe thead th {\n",
       "        text-align: right;\n",
       "    }\n",
       "</style>\n",
       "<table border=\"1\" class=\"dataframe\">\n",
       "  <thead>\n",
       "    <tr style=\"text-align: right;\">\n",
       "      <th></th>\n",
       "      <th>fixed acidity</th>\n",
       "      <th>volatile acidity</th>\n",
       "      <th>citric acid</th>\n",
       "      <th>residual sugar</th>\n",
       "      <th>chlorides</th>\n",
       "      <th>free sulfur dioxide</th>\n",
       "      <th>total sulfur dioxide</th>\n",
       "      <th>density</th>\n",
       "      <th>pH</th>\n",
       "      <th>sulphates</th>\n",
       "      <th>alcohol</th>\n",
       "      <th>quality</th>\n",
       "    </tr>\n",
       "  </thead>\n",
       "  <tbody>\n",
       "    <tr>\n",
       "      <th>0</th>\n",
       "      <td>7.4</td>\n",
       "      <td>0.70</td>\n",
       "      <td>0.00</td>\n",
       "      <td>1.9</td>\n",
       "      <td>0.076</td>\n",
       "      <td>11.0</td>\n",
       "      <td>34.0</td>\n",
       "      <td>0.9978</td>\n",
       "      <td>3.51</td>\n",
       "      <td>0.56</td>\n",
       "      <td>9.4</td>\n",
       "      <td>5</td>\n",
       "    </tr>\n",
       "    <tr>\n",
       "      <th>1</th>\n",
       "      <td>7.8</td>\n",
       "      <td>0.88</td>\n",
       "      <td>0.00</td>\n",
       "      <td>2.6</td>\n",
       "      <td>0.098</td>\n",
       "      <td>25.0</td>\n",
       "      <td>67.0</td>\n",
       "      <td>0.9968</td>\n",
       "      <td>3.20</td>\n",
       "      <td>0.68</td>\n",
       "      <td>9.8</td>\n",
       "      <td>5</td>\n",
       "    </tr>\n",
       "    <tr>\n",
       "      <th>2</th>\n",
       "      <td>7.8</td>\n",
       "      <td>0.76</td>\n",
       "      <td>0.04</td>\n",
       "      <td>2.3</td>\n",
       "      <td>0.092</td>\n",
       "      <td>15.0</td>\n",
       "      <td>54.0</td>\n",
       "      <td>0.9970</td>\n",
       "      <td>3.26</td>\n",
       "      <td>0.65</td>\n",
       "      <td>9.8</td>\n",
       "      <td>5</td>\n",
       "    </tr>\n",
       "    <tr>\n",
       "      <th>3</th>\n",
       "      <td>11.2</td>\n",
       "      <td>0.28</td>\n",
       "      <td>0.56</td>\n",
       "      <td>1.9</td>\n",
       "      <td>0.075</td>\n",
       "      <td>17.0</td>\n",
       "      <td>60.0</td>\n",
       "      <td>0.9980</td>\n",
       "      <td>3.16</td>\n",
       "      <td>0.58</td>\n",
       "      <td>9.8</td>\n",
       "      <td>6</td>\n",
       "    </tr>\n",
       "    <tr>\n",
       "      <th>4</th>\n",
       "      <td>7.4</td>\n",
       "      <td>0.70</td>\n",
       "      <td>0.00</td>\n",
       "      <td>1.9</td>\n",
       "      <td>0.076</td>\n",
       "      <td>11.0</td>\n",
       "      <td>34.0</td>\n",
       "      <td>0.9978</td>\n",
       "      <td>3.51</td>\n",
       "      <td>0.56</td>\n",
       "      <td>9.4</td>\n",
       "      <td>5</td>\n",
       "    </tr>\n",
       "  </tbody>\n",
       "</table>\n",
       "</div>"
      ],
      "text/plain": [
       "   fixed acidity  volatile acidity  citric acid  residual sugar  chlorides  \\\n",
       "0            7.4              0.70         0.00             1.9      0.076   \n",
       "1            7.8              0.88         0.00             2.6      0.098   \n",
       "2            7.8              0.76         0.04             2.3      0.092   \n",
       "3           11.2              0.28         0.56             1.9      0.075   \n",
       "4            7.4              0.70         0.00             1.9      0.076   \n",
       "\n",
       "   free sulfur dioxide  total sulfur dioxide  density    pH  sulphates  \\\n",
       "0                 11.0                  34.0   0.9978  3.51       0.56   \n",
       "1                 25.0                  67.0   0.9968  3.20       0.68   \n",
       "2                 15.0                  54.0   0.9970  3.26       0.65   \n",
       "3                 17.0                  60.0   0.9980  3.16       0.58   \n",
       "4                 11.0                  34.0   0.9978  3.51       0.56   \n",
       "\n",
       "   alcohol  quality  \n",
       "0      9.4        5  \n",
       "1      9.8        5  \n",
       "2      9.8        5  \n",
       "3      9.8        6  \n",
       "4      9.4        5  "
      ]
     },
     "execution_count": 3,
     "metadata": {},
     "output_type": "execute_result"
    }
   ],
   "source": [
    "wine_df = pd.read_csv('../input/red-wine-quality-cortez-et-al-2009/winequality-red.csv')\n",
    "wine_df.head()"
   ]
  },
  {
   "cell_type": "markdown",
   "id": "65a90279",
   "metadata": {
    "papermill": {
     "duration": 0.026586,
     "end_time": "2021-09-07T19:31:03.302913",
     "exception": false,
     "start_time": "2021-09-07T19:31:03.276327",
     "status": "completed"
    },
    "tags": []
   },
   "source": [
    "* fixed acidity: most acids involved with wine or fixed or nonvolatile (do not evaporate readily)\n",
    "* volatile acidity: the amount of acetic acid in wine, which at too high of levels can lead to an unpleasant, vinegar taste\n",
    "* citric acid: found in small quantities, citric acid can add ‘freshness’ and flavor to wines\n",
    "* residual sugar: the amount of sugar remaining after fermentation stops, it’s rare to find wines with less than 1 gram/liter and wines with greater than 45 grams/liter are considered sweet\n",
    "* chlorides: the amount of salt in the wine\n",
    "* free sulfur dioxide: the free form of SO2 exists in equilibrium between molecular SO2 (as a dissolved gas) and bisulfite ion; it prevents microbial growth and the oxidation of wine\n",
    "* total sulfur dioxide: amount of free and bound forms of S02; in low concentrations, SO2 is mostly undetectable in wine, but at free SO2 concentrations over 50 ppm, SO2 becomes evident in the nose and taste of wine\n",
    "* density: the density of water is close to that of water depending on the percent alcohol and sugar content\n",
    "* pH: describes how acidic or basic a wine is on a scale from 0 (very acidic) to 14 (very basic); most wines are between 3-4 on the pH scale\n",
    "* sulphates: a wine additive which can contribute to sulfur dioxide gas (S02) levels, wich acts as an antimicrobial and antioxidant\n",
    "* quality: score between 0 and 10\n",
    "* alcohol: the percent alcohol content of the wine - output varaible"
   ]
  },
  {
   "cell_type": "code",
   "execution_count": 4,
   "id": "6278165a",
   "metadata": {
    "execution": {
     "iopub.execute_input": "2021-09-07T19:31:03.363707Z",
     "iopub.status.busy": "2021-09-07T19:31:03.362826Z",
     "iopub.status.idle": "2021-09-07T19:31:03.366911Z",
     "shell.execute_reply": "2021-09-07T19:31:03.367781Z",
     "shell.execute_reply.started": "2021-09-07T19:29:16.016143Z"
    },
    "papermill": {
     "duration": 0.038197,
     "end_time": "2021-09-07T19:31:03.368035",
     "exception": false,
     "start_time": "2021-09-07T19:31:03.329838",
     "status": "completed"
    },
    "tags": []
   },
   "outputs": [
    {
     "name": "stdout",
     "output_type": "stream",
     "text": [
      "Number of rows, and columns in the dataset (1599, 12)\n"
     ]
    }
   ],
   "source": [
    "print(\"Number of rows, and columns in the dataset\", wine_df.shape)"
   ]
  },
  {
   "cell_type": "code",
   "execution_count": 5,
   "id": "65f533cf",
   "metadata": {
    "execution": {
     "iopub.execute_input": "2021-09-07T19:31:03.431707Z",
     "iopub.status.busy": "2021-09-07T19:31:03.430639Z",
     "iopub.status.idle": "2021-09-07T19:31:03.451599Z",
     "shell.execute_reply": "2021-09-07T19:31:03.452149Z",
     "shell.execute_reply.started": "2021-09-07T19:29:16.023807Z"
    },
    "papermill": {
     "duration": 0.055108,
     "end_time": "2021-09-07T19:31:03.452371",
     "exception": false,
     "start_time": "2021-09-07T19:31:03.397263",
     "status": "completed"
    },
    "tags": []
   },
   "outputs": [
    {
     "name": "stdout",
     "output_type": "stream",
     "text": [
      "<class 'pandas.core.frame.DataFrame'>\n",
      "RangeIndex: 1599 entries, 0 to 1598\n",
      "Data columns (total 12 columns):\n",
      " #   Column                Non-Null Count  Dtype  \n",
      "---  ------                --------------  -----  \n",
      " 0   fixed acidity         1599 non-null   float64\n",
      " 1   volatile acidity      1599 non-null   float64\n",
      " 2   citric acid           1599 non-null   float64\n",
      " 3   residual sugar        1599 non-null   float64\n",
      " 4   chlorides             1599 non-null   float64\n",
      " 5   free sulfur dioxide   1599 non-null   float64\n",
      " 6   total sulfur dioxide  1599 non-null   float64\n",
      " 7   density               1599 non-null   float64\n",
      " 8   pH                    1599 non-null   float64\n",
      " 9   sulphates             1599 non-null   float64\n",
      " 10  alcohol               1599 non-null   float64\n",
      " 11  quality               1599 non-null   int64  \n",
      "dtypes: float64(11), int64(1)\n",
      "memory usage: 150.0 KB\n"
     ]
    }
   ],
   "source": [
    "wine_df.info()"
   ]
  },
  {
   "cell_type": "code",
   "execution_count": 6,
   "id": "613d6707",
   "metadata": {
    "execution": {
     "iopub.execute_input": "2021-09-07T19:31:03.519424Z",
     "iopub.status.busy": "2021-09-07T19:31:03.518530Z",
     "iopub.status.idle": "2021-09-07T19:31:03.564512Z",
     "shell.execute_reply": "2021-09-07T19:31:03.563874Z",
     "shell.execute_reply.started": "2021-09-07T19:29:16.047013Z"
    },
    "papermill": {
     "duration": 0.084389,
     "end_time": "2021-09-07T19:31:03.564690",
     "exception": false,
     "start_time": "2021-09-07T19:31:03.480301",
     "status": "completed"
    },
    "tags": []
   },
   "outputs": [
    {
     "data": {
      "text/html": [
       "<div>\n",
       "<style scoped>\n",
       "    .dataframe tbody tr th:only-of-type {\n",
       "        vertical-align: middle;\n",
       "    }\n",
       "\n",
       "    .dataframe tbody tr th {\n",
       "        vertical-align: top;\n",
       "    }\n",
       "\n",
       "    .dataframe thead th {\n",
       "        text-align: right;\n",
       "    }\n",
       "</style>\n",
       "<table border=\"1\" class=\"dataframe\">\n",
       "  <thead>\n",
       "    <tr style=\"text-align: right;\">\n",
       "      <th></th>\n",
       "      <th>count</th>\n",
       "      <th>mean</th>\n",
       "      <th>std</th>\n",
       "      <th>min</th>\n",
       "      <th>25%</th>\n",
       "      <th>50%</th>\n",
       "      <th>75%</th>\n",
       "      <th>max</th>\n",
       "    </tr>\n",
       "  </thead>\n",
       "  <tbody>\n",
       "    <tr>\n",
       "      <th>fixed acidity</th>\n",
       "      <td>1599.0</td>\n",
       "      <td>8.319637</td>\n",
       "      <td>1.741096</td>\n",
       "      <td>4.60000</td>\n",
       "      <td>7.1000</td>\n",
       "      <td>7.90000</td>\n",
       "      <td>9.200000</td>\n",
       "      <td>15.90000</td>\n",
       "    </tr>\n",
       "    <tr>\n",
       "      <th>volatile acidity</th>\n",
       "      <td>1599.0</td>\n",
       "      <td>0.527821</td>\n",
       "      <td>0.179060</td>\n",
       "      <td>0.12000</td>\n",
       "      <td>0.3900</td>\n",
       "      <td>0.52000</td>\n",
       "      <td>0.640000</td>\n",
       "      <td>1.58000</td>\n",
       "    </tr>\n",
       "    <tr>\n",
       "      <th>citric acid</th>\n",
       "      <td>1599.0</td>\n",
       "      <td>0.270976</td>\n",
       "      <td>0.194801</td>\n",
       "      <td>0.00000</td>\n",
       "      <td>0.0900</td>\n",
       "      <td>0.26000</td>\n",
       "      <td>0.420000</td>\n",
       "      <td>1.00000</td>\n",
       "    </tr>\n",
       "    <tr>\n",
       "      <th>residual sugar</th>\n",
       "      <td>1599.0</td>\n",
       "      <td>2.538806</td>\n",
       "      <td>1.409928</td>\n",
       "      <td>0.90000</td>\n",
       "      <td>1.9000</td>\n",
       "      <td>2.20000</td>\n",
       "      <td>2.600000</td>\n",
       "      <td>15.50000</td>\n",
       "    </tr>\n",
       "    <tr>\n",
       "      <th>chlorides</th>\n",
       "      <td>1599.0</td>\n",
       "      <td>0.087467</td>\n",
       "      <td>0.047065</td>\n",
       "      <td>0.01200</td>\n",
       "      <td>0.0700</td>\n",
       "      <td>0.07900</td>\n",
       "      <td>0.090000</td>\n",
       "      <td>0.61100</td>\n",
       "    </tr>\n",
       "    <tr>\n",
       "      <th>free sulfur dioxide</th>\n",
       "      <td>1599.0</td>\n",
       "      <td>15.874922</td>\n",
       "      <td>10.460157</td>\n",
       "      <td>1.00000</td>\n",
       "      <td>7.0000</td>\n",
       "      <td>14.00000</td>\n",
       "      <td>21.000000</td>\n",
       "      <td>72.00000</td>\n",
       "    </tr>\n",
       "    <tr>\n",
       "      <th>total sulfur dioxide</th>\n",
       "      <td>1599.0</td>\n",
       "      <td>46.467792</td>\n",
       "      <td>32.895324</td>\n",
       "      <td>6.00000</td>\n",
       "      <td>22.0000</td>\n",
       "      <td>38.00000</td>\n",
       "      <td>62.000000</td>\n",
       "      <td>289.00000</td>\n",
       "    </tr>\n",
       "    <tr>\n",
       "      <th>density</th>\n",
       "      <td>1599.0</td>\n",
       "      <td>0.996747</td>\n",
       "      <td>0.001887</td>\n",
       "      <td>0.99007</td>\n",
       "      <td>0.9956</td>\n",
       "      <td>0.99675</td>\n",
       "      <td>0.997835</td>\n",
       "      <td>1.00369</td>\n",
       "    </tr>\n",
       "    <tr>\n",
       "      <th>pH</th>\n",
       "      <td>1599.0</td>\n",
       "      <td>3.311113</td>\n",
       "      <td>0.154386</td>\n",
       "      <td>2.74000</td>\n",
       "      <td>3.2100</td>\n",
       "      <td>3.31000</td>\n",
       "      <td>3.400000</td>\n",
       "      <td>4.01000</td>\n",
       "    </tr>\n",
       "    <tr>\n",
       "      <th>sulphates</th>\n",
       "      <td>1599.0</td>\n",
       "      <td>0.658149</td>\n",
       "      <td>0.169507</td>\n",
       "      <td>0.33000</td>\n",
       "      <td>0.5500</td>\n",
       "      <td>0.62000</td>\n",
       "      <td>0.730000</td>\n",
       "      <td>2.00000</td>\n",
       "    </tr>\n",
       "    <tr>\n",
       "      <th>alcohol</th>\n",
       "      <td>1599.0</td>\n",
       "      <td>10.422983</td>\n",
       "      <td>1.065668</td>\n",
       "      <td>8.40000</td>\n",
       "      <td>9.5000</td>\n",
       "      <td>10.20000</td>\n",
       "      <td>11.100000</td>\n",
       "      <td>14.90000</td>\n",
       "    </tr>\n",
       "    <tr>\n",
       "      <th>quality</th>\n",
       "      <td>1599.0</td>\n",
       "      <td>5.636023</td>\n",
       "      <td>0.807569</td>\n",
       "      <td>3.00000</td>\n",
       "      <td>5.0000</td>\n",
       "      <td>6.00000</td>\n",
       "      <td>6.000000</td>\n",
       "      <td>8.00000</td>\n",
       "    </tr>\n",
       "  </tbody>\n",
       "</table>\n",
       "</div>"
      ],
      "text/plain": [
       "                       count       mean        std      min      25%  \\\n",
       "fixed acidity         1599.0   8.319637   1.741096  4.60000   7.1000   \n",
       "volatile acidity      1599.0   0.527821   0.179060  0.12000   0.3900   \n",
       "citric acid           1599.0   0.270976   0.194801  0.00000   0.0900   \n",
       "residual sugar        1599.0   2.538806   1.409928  0.90000   1.9000   \n",
       "chlorides             1599.0   0.087467   0.047065  0.01200   0.0700   \n",
       "free sulfur dioxide   1599.0  15.874922  10.460157  1.00000   7.0000   \n",
       "total sulfur dioxide  1599.0  46.467792  32.895324  6.00000  22.0000   \n",
       "density               1599.0   0.996747   0.001887  0.99007   0.9956   \n",
       "pH                    1599.0   3.311113   0.154386  2.74000   3.2100   \n",
       "sulphates             1599.0   0.658149   0.169507  0.33000   0.5500   \n",
       "alcohol               1599.0  10.422983   1.065668  8.40000   9.5000   \n",
       "quality               1599.0   5.636023   0.807569  3.00000   5.0000   \n",
       "\n",
       "                           50%        75%        max  \n",
       "fixed acidity          7.90000   9.200000   15.90000  \n",
       "volatile acidity       0.52000   0.640000    1.58000  \n",
       "citric acid            0.26000   0.420000    1.00000  \n",
       "residual sugar         2.20000   2.600000   15.50000  \n",
       "chlorides              0.07900   0.090000    0.61100  \n",
       "free sulfur dioxide   14.00000  21.000000   72.00000  \n",
       "total sulfur dioxide  38.00000  62.000000  289.00000  \n",
       "density                0.99675   0.997835    1.00369  \n",
       "pH                     3.31000   3.400000    4.01000  \n",
       "sulphates              0.62000   0.730000    2.00000  \n",
       "alcohol               10.20000  11.100000   14.90000  \n",
       "quality                6.00000   6.000000    8.00000  "
      ]
     },
     "execution_count": 6,
     "metadata": {},
     "output_type": "execute_result"
    }
   ],
   "source": [
    "wine_df.describe().T"
   ]
  },
  {
   "cell_type": "markdown",
   "id": "e6c177b1",
   "metadata": {
    "papermill": {
     "duration": 0.030027,
     "end_time": "2021-09-07T19:31:03.623205",
     "exception": false,
     "start_time": "2021-09-07T19:31:03.593178",
     "status": "completed"
    },
    "tags": []
   },
   "source": [
    "Above table shows two columns \"total sulfur dioxide\", and \"free sulfur dioxide\" have high value."
   ]
  },
  {
   "cell_type": "markdown",
   "id": "f5152347",
   "metadata": {
    "papermill": {
     "duration": 0.028741,
     "end_time": "2021-09-07T19:31:03.680596",
     "exception": false,
     "start_time": "2021-09-07T19:31:03.651855",
     "status": "completed"
    },
    "tags": []
   },
   "source": [
    "Checking missing values"
   ]
  },
  {
   "cell_type": "code",
   "execution_count": 7,
   "id": "653c3203",
   "metadata": {
    "execution": {
     "iopub.execute_input": "2021-09-07T19:31:03.745051Z",
     "iopub.status.busy": "2021-09-07T19:31:03.744331Z",
     "iopub.status.idle": "2021-09-07T19:31:03.748247Z",
     "shell.execute_reply": "2021-09-07T19:31:03.748761Z",
     "shell.execute_reply.started": "2021-09-07T19:29:16.097196Z"
    },
    "papermill": {
     "duration": 0.039327,
     "end_time": "2021-09-07T19:31:03.748961",
     "exception": false,
     "start_time": "2021-09-07T19:31:03.709634",
     "status": "completed"
    },
    "tags": []
   },
   "outputs": [
    {
     "data": {
      "text/plain": [
       "fixed acidity           0\n",
       "volatile acidity        0\n",
       "citric acid             0\n",
       "residual sugar          0\n",
       "chlorides               0\n",
       "free sulfur dioxide     0\n",
       "total sulfur dioxide    0\n",
       "density                 0\n",
       "pH                      0\n",
       "sulphates               0\n",
       "alcohol                 0\n",
       "quality                 0\n",
       "dtype: int64"
      ]
     },
     "execution_count": 7,
     "metadata": {},
     "output_type": "execute_result"
    }
   ],
   "source": [
    "wine_df.isnull().sum()"
   ]
  },
  {
   "cell_type": "markdown",
   "id": "1b4b4ecd",
   "metadata": {
    "papermill": {
     "duration": 0.028346,
     "end_time": "2021-09-07T19:31:03.805879",
     "exception": false,
     "start_time": "2021-09-07T19:31:03.777533",
     "status": "completed"
    },
    "tags": []
   },
   "source": [
    "There is no missing values in the dataset."
   ]
  },
  {
   "cell_type": "markdown",
   "id": "490289e0",
   "metadata": {
    "papermill": {
     "duration": 0.028099,
     "end_time": "2021-09-07T19:31:03.862603",
     "exception": false,
     "start_time": "2021-09-07T19:31:03.834504",
     "status": "completed"
    },
    "tags": []
   },
   "source": [
    "Visualize Variables"
   ]
  },
  {
   "cell_type": "code",
   "execution_count": 8,
   "id": "8733c477",
   "metadata": {
    "execution": {
     "iopub.execute_input": "2021-09-07T19:31:03.924013Z",
     "iopub.status.busy": "2021-09-07T19:31:03.923317Z",
     "iopub.status.idle": "2021-09-07T19:31:05.257623Z",
     "shell.execute_reply": "2021-09-07T19:31:05.258221Z",
     "shell.execute_reply.started": "2021-09-07T19:29:16.110030Z"
    },
    "papermill": {
     "duration": 1.367356,
     "end_time": "2021-09-07T19:31:05.258426",
     "exception": false,
     "start_time": "2021-09-07T19:31:03.891070",
     "status": "completed"
    },
    "tags": []
   },
   "outputs": [
    {
     "data": {
      "text/plain": [
       "<AxesSubplot:>"
      ]
     },
     "execution_count": 8,
     "metadata": {},
     "output_type": "execute_result"
    },
    {
     "data": {
      "image/png": "[encoded data removed]",
      "text/plain": [
       "<Figure size 1080x720 with 2 Axes>"
      ]
     },
     "metadata": {
      "needs_background": "light"
     },
     "output_type": "display_data"
    }
   ],
   "source": [
    "plt.figure(figsize=(15,10))\n",
    "sns.heatmap(wine_df.corr(),cmap = 'Wistia', annot =True )"
   ]
  },
  {
   "cell_type": "markdown",
   "id": "38dd7e28",
   "metadata": {
    "papermill": {
     "duration": 0.033333,
     "end_time": "2021-09-07T19:31:05.324819",
     "exception": false,
     "start_time": "2021-09-07T19:31:05.291486",
     "status": "completed"
    },
    "tags": []
   },
   "source": [
    "Splitting the Dataset into Train and Test"
   ]
  },
  {
   "cell_type": "code",
   "execution_count": 9,
   "id": "eafd50a8",
   "metadata": {
    "execution": {
     "iopub.execute_input": "2021-09-07T19:31:05.397805Z",
     "iopub.status.busy": "2021-09-07T19:31:05.397080Z",
     "iopub.status.idle": "2021-09-07T19:31:05.400385Z",
     "shell.execute_reply": "2021-09-07T19:31:05.399745Z",
     "shell.execute_reply.started": "2021-09-07T19:29:17.460580Z"
    },
    "papermill": {
     "duration": 0.043014,
     "end_time": "2021-09-07T19:31:05.400546",
     "exception": false,
     "start_time": "2021-09-07T19:31:05.357532",
     "status": "completed"
    },
    "tags": []
   },
   "outputs": [],
   "source": [
    "X = wine_df.drop('quality', axis = 1)\n",
    "y = wine_df['quality']"
   ]
  },
  {
   "cell_type": "code",
   "execution_count": 10,
   "id": "52eccc8e",
   "metadata": {
    "execution": {
     "iopub.execute_input": "2021-09-07T19:31:05.471710Z",
     "iopub.status.busy": "2021-09-07T19:31:05.470939Z",
     "iopub.status.idle": "2021-09-07T19:31:05.686183Z",
     "shell.execute_reply": "2021-09-07T19:31:05.684837Z",
     "shell.execute_reply.started": "2021-09-07T19:29:17.468399Z"
    },
    "papermill": {
     "duration": 0.253255,
     "end_time": "2021-09-07T19:31:05.686363",
     "exception": false,
     "start_time": "2021-09-07T19:31:05.433108",
     "status": "completed"
    },
    "tags": []
   },
   "outputs": [],
   "source": [
    "from sklearn.model_selection import train_test_split\n",
    "from sklearn.linear_model import LinearRegression\n",
    "from sklearn import metrics\n",
    "X_train, X_test, y_train, y_test = train_test_split(X, y, test_size = 0.3, random_state = 23)"
   ]
  },
  {
   "cell_type": "markdown",
   "id": "8eb2ee66",
   "metadata": {
    "papermill": {
     "duration": 0.03174,
     "end_time": "2021-09-07T19:31:05.750487",
     "exception": false,
     "start_time": "2021-09-07T19:31:05.718747",
     "status": "completed"
    },
    "tags": []
   },
   "source": [
    "Building the model"
   ]
  },
  {
   "cell_type": "code",
   "execution_count": 11,
   "id": "aaa97c16",
   "metadata": {
    "execution": {
     "iopub.execute_input": "2021-09-07T19:31:05.822841Z",
     "iopub.status.busy": "2021-09-07T19:31:05.822055Z",
     "iopub.status.idle": "2021-09-07T19:31:06.043385Z",
     "shell.execute_reply": "2021-09-07T19:31:06.044165Z",
     "shell.execute_reply.started": "2021-09-07T19:29:17.539444Z"
    },
    "papermill": {
     "duration": 0.261764,
     "end_time": "2021-09-07T19:31:06.044387",
     "exception": false,
     "start_time": "2021-09-07T19:31:05.782623",
     "status": "completed"
    },
    "tags": []
   },
   "outputs": [],
   "source": [
    "lm = LinearRegression()\n",
    "model = lm.fit(X_train, y_train)"
   ]
  },
  {
   "cell_type": "code",
   "execution_count": 12,
   "id": "d92cf064",
   "metadata": {
    "execution": {
     "iopub.execute_input": "2021-09-07T19:31:06.122573Z",
     "iopub.status.busy": "2021-09-07T19:31:06.121652Z",
     "iopub.status.idle": "2021-09-07T19:31:06.126200Z",
     "shell.execute_reply": "2021-09-07T19:31:06.125556Z",
     "shell.execute_reply.started": "2021-09-07T19:29:17.564153Z"
    },
    "papermill": {
     "duration": 0.049129,
     "end_time": "2021-09-07T19:31:06.126355",
     "exception": false,
     "start_time": "2021-09-07T19:31:06.077226",
     "status": "completed"
    },
    "tags": []
   },
   "outputs": [
    {
     "data": {
      "text/html": [
       "<div>\n",
       "<style scoped>\n",
       "    .dataframe tbody tr th:only-of-type {\n",
       "        vertical-align: middle;\n",
       "    }\n",
       "\n",
       "    .dataframe tbody tr th {\n",
       "        vertical-align: top;\n",
       "    }\n",
       "\n",
       "    .dataframe thead th {\n",
       "        text-align: right;\n",
       "    }\n",
       "</style>\n",
       "<table border=\"1\" class=\"dataframe\">\n",
       "  <thead>\n",
       "    <tr style=\"text-align: right;\">\n",
       "      <th></th>\n",
       "      <th>Coefficient</th>\n",
       "    </tr>\n",
       "  </thead>\n",
       "  <tbody>\n",
       "    <tr>\n",
       "      <th>fixed acidity</th>\n",
       "      <td>0.003299</td>\n",
       "    </tr>\n",
       "    <tr>\n",
       "      <th>volatile acidity</th>\n",
       "      <td>-1.116009</td>\n",
       "    </tr>\n",
       "    <tr>\n",
       "      <th>citric acid</th>\n",
       "      <td>-0.163674</td>\n",
       "    </tr>\n",
       "    <tr>\n",
       "      <th>residual sugar</th>\n",
       "      <td>0.017637</td>\n",
       "    </tr>\n",
       "    <tr>\n",
       "      <th>chlorides</th>\n",
       "      <td>-1.731061</td>\n",
       "    </tr>\n",
       "    <tr>\n",
       "      <th>free sulfur dioxide</th>\n",
       "      <td>0.004267</td>\n",
       "    </tr>\n",
       "    <tr>\n",
       "      <th>total sulfur dioxide</th>\n",
       "      <td>-0.003286</td>\n",
       "    </tr>\n",
       "    <tr>\n",
       "      <th>density</th>\n",
       "      <td>-0.104331</td>\n",
       "    </tr>\n",
       "    <tr>\n",
       "      <th>pH</th>\n",
       "      <td>-0.503768</td>\n",
       "    </tr>\n",
       "    <tr>\n",
       "      <th>sulphates</th>\n",
       "      <td>0.818729</td>\n",
       "    </tr>\n",
       "    <tr>\n",
       "      <th>alcohol</th>\n",
       "      <td>0.283345</td>\n",
       "    </tr>\n",
       "  </tbody>\n",
       "</table>\n",
       "</div>"
      ],
      "text/plain": [
       "                      Coefficient\n",
       "fixed acidity            0.003299\n",
       "volatile acidity        -1.116009\n",
       "citric acid             -0.163674\n",
       "residual sugar           0.017637\n",
       "chlorides               -1.731061\n",
       "free sulfur dioxide      0.004267\n",
       "total sulfur dioxide    -0.003286\n",
       "density                 -0.104331\n",
       "pH                      -0.503768\n",
       "sulphates                0.818729\n",
       "alcohol                  0.283345"
      ]
     },
     "execution_count": 12,
     "metadata": {},
     "output_type": "execute_result"
    }
   ],
   "source": [
    "coeff = pd.DataFrame(lm.coef_, X_train.columns, columns=['Coefficient'])\n",
    "coeff"
   ]
  },
  {
   "cell_type": "code",
   "execution_count": 13,
   "id": "9918b142",
   "metadata": {
    "execution": {
     "iopub.execute_input": "2021-09-07T19:31:06.197237Z",
     "iopub.status.busy": "2021-09-07T19:31:06.196486Z",
     "iopub.status.idle": "2021-09-07T19:31:06.201258Z",
     "shell.execute_reply": "2021-09-07T19:31:06.200684Z",
     "shell.execute_reply.started": "2021-09-07T19:29:17.582838Z"
    },
    "papermill": {
     "duration": 0.042735,
     "end_time": "2021-09-07T19:31:06.201424",
     "exception": false,
     "start_time": "2021-09-07T19:31:06.158689",
     "status": "completed"
    },
    "tags": []
   },
   "outputs": [
    {
     "data": {
      "text/plain": [
       "4.718324704725264"
      ]
     },
     "execution_count": 13,
     "metadata": {},
     "output_type": "execute_result"
    }
   ],
   "source": [
    "lm.intercept_"
   ]
  },
  {
   "cell_type": "code",
   "execution_count": 14,
   "id": "5a88f12c",
   "metadata": {
    "execution": {
     "iopub.execute_input": "2021-09-07T19:31:06.276062Z",
     "iopub.status.busy": "2021-09-07T19:31:06.275320Z",
     "iopub.status.idle": "2021-09-07T19:31:06.278745Z",
     "shell.execute_reply": "2021-09-07T19:31:06.278215Z",
     "shell.execute_reply.started": "2021-09-07T19:29:17.596149Z"
    },
    "papermill": {
     "duration": 0.044121,
     "end_time": "2021-09-07T19:31:06.278892",
     "exception": false,
     "start_time": "2021-09-07T19:31:06.234771",
     "status": "completed"
    },
    "tags": []
   },
   "outputs": [],
   "source": [
    "y_pred = lm.predict(X_test)"
   ]
  },
  {
   "cell_type": "code",
   "execution_count": 15,
   "id": "0c719ea1",
   "metadata": {
    "execution": {
     "iopub.execute_input": "2021-09-07T19:31:06.365705Z",
     "iopub.status.busy": "2021-09-07T19:31:06.351146Z",
     "iopub.status.idle": "2021-09-07T19:31:06.403098Z",
     "shell.execute_reply": "2021-09-07T19:31:06.404694Z",
     "shell.execute_reply.started": "2021-09-07T19:29:17.609777Z"
    },
    "papermill": {
     "duration": 0.093221,
     "end_time": "2021-09-07T19:31:06.405174",
     "exception": false,
     "start_time": "2021-09-07T19:31:06.311953",
     "status": "completed"
    },
    "tags": []
   },
   "outputs": [
    {
     "name": "stdout",
     "output_type": "stream",
     "text": [
      "                                 OLS Regression Results                                \n",
      "=======================================================================================\n",
      "Dep. Variable:                quality   R-squared (uncentered):                   0.986\n",
      "Model:                            OLS   Adj. R-squared (uncentered):              0.986\n",
      "Method:                 Least Squares   F-statistic:                              7260.\n",
      "Date:                Tue, 07 Sep 2021   Prob (F-statistic):                        0.00\n",
      "Time:                        19:31:06   Log-Likelihood:                         -1134.5\n",
      "No. Observations:                1119   AIC:                                      2291.\n",
      "Df Residuals:                    1108   BIC:                                      2346.\n",
      "Df Model:                          11                                                  \n",
      "Covariance Type:            nonrobust                                                  \n",
      "========================================================================================\n",
      "                           coef    std err          t      P>|t|      [0.025      0.975]\n",
      "----------------------------------------------------------------------------------------\n",
      "fixed acidity           -0.0011      0.020     -0.053      0.958      -0.040       0.038\n",
      "volatile acidity        -1.1194      0.147     -7.637      0.000      -1.407      -0.832\n",
      "citric acid             -0.1645      0.183     -0.899      0.369      -0.524       0.195\n",
      "residual sugar           0.0157      0.015      1.058      0.290      -0.013       0.045\n",
      "chlorides               -1.7346      0.556     -3.118      0.002      -2.826      -0.643\n",
      "free sulfur dioxide      0.0043      0.003      1.612      0.107      -0.001       0.010\n",
      "total sulfur dioxide    -0.0033      0.001     -3.736      0.000      -0.005      -0.002\n",
      "density                  4.7057      0.788      5.974      0.000       3.160       6.251\n",
      "pH                      -0.5267      0.201     -2.624      0.009      -0.921      -0.133\n",
      "sulphates                0.8124      0.140      5.814      0.000       0.538       1.087\n",
      "alcohol                  0.2879      0.021     13.710      0.000       0.247       0.329\n",
      "==============================================================================\n",
      "Omnibus:                       19.220   Durbin-Watson:                   2.047\n",
      "Prob(Omnibus):                  0.000   Jarque-Bera (JB):               28.046\n",
      "Skew:                          -0.167   Prob(JB):                     8.13e-07\n",
      "Kurtosis:                       3.700   Cond. No.                     2.51e+03\n",
      "==============================================================================\n",
      "\n",
      "Notes:\n",
      "[1] R² is computed without centering (uncentered) since the model does not contain a constant.\n",
      "[2] Standard Errors assume that the covariance matrix of the errors is correctly specified.\n",
      "[3] The condition number is large, 2.51e+03. This might indicate that there are\n",
      "strong multicollinearity or other numerical problems.\n"
     ]
    }
   ],
   "source": [
    "model = sm.OLS(y_train, X_train)\n",
    "results = model.fit()\n",
    "print(results.summary())"
   ]
  },
  {
   "cell_type": "code",
   "execution_count": 16,
   "id": "ca5d5d54",
   "metadata": {
    "execution": {
     "iopub.execute_input": "2021-09-07T19:31:06.523249Z",
     "iopub.status.busy": "2021-09-07T19:31:06.522096Z",
     "iopub.status.idle": "2021-09-07T19:31:06.546364Z",
     "shell.execute_reply": "2021-09-07T19:31:06.547277Z",
     "shell.execute_reply.started": "2021-09-07T19:29:17.648891Z"
    },
    "papermill": {
     "duration": 0.082793,
     "end_time": "2021-09-07T19:31:06.547545",
     "exception": false,
     "start_time": "2021-09-07T19:31:06.464752",
     "status": "completed"
    },
    "tags": []
   },
   "outputs": [
    {
     "name": "stdout",
     "output_type": "stream",
     "text": [
      "                                 OLS Regression Results                                \n",
      "=======================================================================================\n",
      "Dep. Variable:                quality   R-squared (uncentered):                   0.987\n",
      "Model:                            OLS   Adj. R-squared (uncentered):              0.987\n",
      "Method:                 Least Squares   F-statistic:                          1.180e+04\n",
      "Date:                Tue, 07 Sep 2021   Prob (F-statistic):                        0.00\n",
      "Time:                        19:31:06   Log-Likelihood:                         -1595.7\n",
      "No. Observations:                1599   AIC:                                      3211.\n",
      "Df Residuals:                    1589   BIC:                                      3265.\n",
      "Df Model:                          10                                                  \n",
      "Covariance Type:            nonrobust                                                  \n",
      "========================================================================================\n",
      "                           coef    std err          t      P>|t|      [0.025      0.975]\n",
      "----------------------------------------------------------------------------------------\n",
      "fixed acidity            0.0850      0.012      6.918      0.000       0.061       0.109\n",
      "volatile acidity        -1.1067      0.122     -9.070      0.000      -1.346      -0.867\n",
      "citric acid             -0.2494      0.149     -1.671      0.095      -0.542       0.043\n",
      "residual sugar           0.0065      0.012      0.530      0.596      -0.018       0.031\n",
      "chlorides               -1.0453      0.407     -2.570      0.010      -1.843      -0.248\n",
      "free sulfur dioxide      0.0031      0.002      1.431      0.153      -0.001       0.007\n",
      "total sulfur dioxide    -0.0020      0.001     -2.768      0.006      -0.003      -0.001\n",
      "pH                       0.5470      0.062      8.760      0.000       0.425       0.670\n",
      "sulphates                0.9208      0.112      8.187      0.000       0.700       1.141\n",
      "alcohol                  0.3144      0.017     18.115      0.000       0.280       0.348\n",
      "==============================================================================\n",
      "Omnibus:                       41.843   Durbin-Watson:                   1.760\n",
      "Prob(Omnibus):                  0.000   Jarque-Bera (JB):               68.886\n",
      "Skew:                          -0.224   Prob(JB):                     1.10e-15\n",
      "Kurtosis:                       3.913   Cond. No.                     1.52e+03\n",
      "==============================================================================\n",
      "\n",
      "Notes:\n",
      "[1] R² is computed without centering (uncentered) since the model does not contain a constant.\n",
      "[2] Standard Errors assume that the covariance matrix of the errors is correctly specified.\n",
      "[3] The condition number is large, 1.52e+03. This might indicate that there are\n",
      "strong multicollinearity or other numerical problems.\n"
     ]
    }
   ],
   "source": [
    "X.drop('density',axis=1, inplace=True)\n",
    "model = sm.OLS(y,X)\n",
    "results = model.fit()\n",
    "print(results.summary())"
   ]
  },
  {
   "cell_type": "code",
   "execution_count": 17,
   "id": "f94ea178",
   "metadata": {
    "execution": {
     "iopub.execute_input": "2021-09-07T19:31:06.666542Z",
     "iopub.status.busy": "2021-09-07T19:31:06.665238Z",
     "iopub.status.idle": "2021-09-07T19:31:06.693305Z",
     "shell.execute_reply": "2021-09-07T19:31:06.694392Z",
     "shell.execute_reply.started": "2021-09-07T19:29:17.684053Z"
    },
    "papermill": {
     "duration": 0.087795,
     "end_time": "2021-09-07T19:31:06.694728",
     "exception": false,
     "start_time": "2021-09-07T19:31:06.606933",
     "status": "completed"
    },
    "tags": []
   },
   "outputs": [
    {
     "name": "stdout",
     "output_type": "stream",
     "text": [
      "                                 OLS Regression Results                                \n",
      "=======================================================================================\n",
      "Dep. Variable:                quality   R-squared (uncentered):                   0.986\n",
      "Model:                            OLS   Adj. R-squared (uncentered):              0.986\n",
      "Method:                 Least Squares   F-statistic:                          1.273e+04\n",
      "Date:                Tue, 07 Sep 2021   Prob (F-statistic):                        0.00\n",
      "Time:                        19:31:06   Log-Likelihood:                         -1619.4\n",
      "No. Observations:                1599   AIC:                                      3257.\n",
      "Df Residuals:                    1590   BIC:                                      3305.\n",
      "Df Model:                           9                                                  \n",
      "Covariance Type:            nonrobust                                                  \n",
      "========================================================================================\n",
      "                           coef    std err          t      P>|t|      [0.025      0.975]\n",
      "----------------------------------------------------------------------------------------\n",
      "volatile acidity        -0.8402      0.117     -7.152      0.000      -1.071      -0.610\n",
      "citric acid              0.4499      0.111      4.038      0.000       0.231       0.668\n",
      "residual sugar           0.0127      0.012      1.024      0.306      -0.012       0.037\n",
      "chlorides               -1.3272      0.411     -3.232      0.001      -2.132      -0.522\n",
      "free sulfur dioxide      0.0034      0.002      1.519      0.129      -0.001       0.008\n",
      "total sulfur dioxide    -0.0027      0.001     -3.790      0.000      -0.004      -0.001\n",
      "pH                       0.6581      0.061     10.748      0.000       0.538       0.778\n",
      "sulphates                1.0182      0.113      8.992      0.000       0.796       1.240\n",
      "alcohol                  0.3127      0.018     17.757      0.000       0.278       0.347\n",
      "==============================================================================\n",
      "Omnibus:                       40.895   Durbin-Watson:                   1.731\n",
      "Prob(Omnibus):                  0.000   Jarque-Bera (JB):               62.969\n",
      "Skew:                          -0.241   Prob(JB):                     2.12e-14\n",
      "Kurtosis:                       3.844   Cond. No.                     1.50e+03\n",
      "==============================================================================\n",
      "\n",
      "Notes:\n",
      "[1] R² is computed without centering (uncentered) since the model does not contain a constant.\n",
      "[2] Standard Errors assume that the covariance matrix of the errors is correctly specified.\n",
      "[3] The condition number is large, 1.5e+03. This might indicate that there are\n",
      "strong multicollinearity or other numerical problems.\n"
     ]
    }
   ],
   "source": [
    "X.drop('fixed acidity',axis=1, inplace=True)\n",
    "model = sm.OLS(y,X)\n",
    "results = model.fit()\n",
    "print(results.summary())"
   ]
  },
  {
   "cell_type": "code",
   "execution_count": 18,
   "id": "b2056449",
   "metadata": {
    "execution": {
     "iopub.execute_input": "2021-09-07T19:31:06.817371Z",
     "iopub.status.busy": "2021-09-07T19:31:06.816181Z",
     "iopub.status.idle": "2021-09-07T19:31:06.840489Z",
     "shell.execute_reply": "2021-09-07T19:31:06.841531Z",
     "shell.execute_reply.started": "2021-09-07T19:29:17.719138Z"
    },
    "papermill": {
     "duration": 0.085137,
     "end_time": "2021-09-07T19:31:06.841914",
     "exception": false,
     "start_time": "2021-09-07T19:31:06.756777",
     "status": "completed"
    },
    "tags": []
   },
   "outputs": [
    {
     "name": "stdout",
     "output_type": "stream",
     "text": [
      "                                 OLS Regression Results                                \n",
      "=======================================================================================\n",
      "Dep. Variable:                quality   R-squared (uncentered):                   0.986\n",
      "Model:                            OLS   Adj. R-squared (uncentered):              0.986\n",
      "Method:                 Least Squares   F-statistic:                          1.432e+04\n",
      "Date:                Tue, 07 Sep 2021   Prob (F-statistic):                        0.00\n",
      "Time:                        19:31:06   Log-Likelihood:                         -1619.9\n",
      "No. Observations:                1599   AIC:                                      3256.\n",
      "Df Residuals:                    1591   BIC:                                      3299.\n",
      "Df Model:                           8                                                  \n",
      "Covariance Type:            nonrobust                                                  \n",
      "========================================================================================\n",
      "                           coef    std err          t      P>|t|      [0.025      0.975]\n",
      "----------------------------------------------------------------------------------------\n",
      "volatile acidity        -0.8288      0.117     -7.087      0.000      -1.058      -0.599\n",
      "citric acid              0.4692      0.110      4.273      0.000       0.254       0.685\n",
      "chlorides               -1.3089      0.410     -3.191      0.001      -2.114      -0.504\n",
      "free sulfur dioxide      0.0036      0.002      1.628      0.104      -0.001       0.008\n",
      "total sulfur dioxide    -0.0026      0.001     -3.713      0.000      -0.004      -0.001\n",
      "pH                       0.6580      0.061     10.745      0.000       0.538       0.778\n",
      "sulphates                1.0111      0.113      8.946      0.000       0.789       1.233\n",
      "alcohol                  0.3144      0.018     17.935      0.000       0.280       0.349\n",
      "==============================================================================\n",
      "Omnibus:                       38.306   Durbin-Watson:                   1.727\n",
      "Prob(Omnibus):                  0.000   Jarque-Bera (JB):               58.408\n",
      "Skew:                          -0.230   Prob(JB):                     2.07e-13\n",
      "Kurtosis:                       3.816   Cond. No.                     1.50e+03\n",
      "==============================================================================\n",
      "\n",
      "Notes:\n",
      "[1] R² is computed without centering (uncentered) since the model does not contain a constant.\n",
      "[2] Standard Errors assume that the covariance matrix of the errors is correctly specified.\n",
      "[3] The condition number is large, 1.5e+03. This might indicate that there are\n",
      "strong multicollinearity or other numerical problems.\n"
     ]
    }
   ],
   "source": [
    "X.drop('residual sugar',axis=1, inplace=True)\n",
    "model = sm.OLS(y,X)\n",
    "results = model.fit()\n",
    "print(results.summary())"
   ]
  },
  {
   "cell_type": "code",
   "execution_count": 19,
   "id": "b5e554c3",
   "metadata": {
    "execution": {
     "iopub.execute_input": "2021-09-07T19:31:06.969782Z",
     "iopub.status.busy": "2021-09-07T19:31:06.968719Z",
     "iopub.status.idle": "2021-09-07T19:31:06.995719Z",
     "shell.execute_reply": "2021-09-07T19:31:06.997434Z",
     "shell.execute_reply.started": "2021-09-07T19:29:17.753638Z"
    },
    "papermill": {
     "duration": 0.08805,
     "end_time": "2021-09-07T19:31:06.997963",
     "exception": false,
     "start_time": "2021-09-07T19:31:06.909913",
     "status": "completed"
    },
    "tags": []
   },
   "outputs": [
    {
     "name": "stdout",
     "output_type": "stream",
     "text": [
      "                                 OLS Regression Results                                \n",
      "=======================================================================================\n",
      "Dep. Variable:                quality   R-squared (uncentered):                   0.986\n",
      "Model:                            OLS   Adj. R-squared (uncentered):              0.986\n",
      "Method:                 Least Squares   F-statistic:                          1.619e+04\n",
      "Date:                Tue, 07 Sep 2021   Prob (F-statistic):                        0.00\n",
      "Time:                        19:31:06   Log-Likelihood:                         -1629.0\n",
      "No. Observations:                1599   AIC:                                      3272.\n",
      "Df Residuals:                    1592   BIC:                                      3310.\n",
      "Df Model:                           7                                                  \n",
      "Covariance Type:            nonrobust                                                  \n",
      "========================================================================================\n",
      "                           coef    std err          t      P>|t|      [0.025      0.975]\n",
      "----------------------------------------------------------------------------------------\n",
      "volatile acidity        -1.0581      0.104    -10.127      0.000      -1.263      -0.853\n",
      "chlorides               -0.8301      0.397     -2.092      0.037      -1.608      -0.052\n",
      "free sulfur dioxide      0.0018      0.002      0.831      0.406      -0.002       0.006\n",
      "total sulfur dioxide    -0.0019      0.001     -2.761      0.006      -0.003      -0.001\n",
      "pH                       0.6345      0.061     10.348      0.000       0.514       0.755\n",
      "sulphates                1.0815      0.112      9.621      0.000       0.861       1.302\n",
      "alcohol                  0.3365      0.017     19.988      0.000       0.304       0.370\n",
      "==============================================================================\n",
      "Omnibus:                       38.457   Durbin-Watson:                   1.717\n",
      "Prob(Omnibus):                  0.000   Jarque-Bera (JB):               61.440\n",
      "Skew:                          -0.215   Prob(JB):                     4.55e-14\n",
      "Kurtosis:                       3.859   Cond. No.                     1.44e+03\n",
      "==============================================================================\n",
      "\n",
      "Notes:\n",
      "[1] R² is computed without centering (uncentered) since the model does not contain a constant.\n",
      "[2] Standard Errors assume that the covariance matrix of the errors is correctly specified.\n",
      "[3] The condition number is large, 1.44e+03. This might indicate that there are\n",
      "strong multicollinearity or other numerical problems.\n"
     ]
    }
   ],
   "source": [
    "X.drop('citric acid',axis=1, inplace=True)\n",
    "model = sm.OLS(y,X)\n",
    "results = model.fit()\n",
    "print(results.summary())"
   ]
  },
  {
   "cell_type": "code",
   "execution_count": 20,
   "id": "686a0470",
   "metadata": {
    "execution": {
     "iopub.execute_input": "2021-09-07T19:31:07.121241Z",
     "iopub.status.busy": "2021-09-07T19:31:07.120513Z",
     "iopub.status.idle": "2021-09-07T19:31:07.122524Z",
     "shell.execute_reply": "2021-09-07T19:31:07.123240Z",
     "shell.execute_reply.started": "2021-09-07T19:29:17.785022Z"
    },
    "papermill": {
     "duration": 0.060382,
     "end_time": "2021-09-07T19:31:07.123450",
     "exception": false,
     "start_time": "2021-09-07T19:31:07.063068",
     "status": "completed"
    },
    "tags": []
   },
   "outputs": [],
   "source": [
    "y_pred = lm.predict(X_test)"
   ]
  },
  {
   "cell_type": "code",
   "execution_count": 21,
   "id": "c71bc78f",
   "metadata": {
    "execution": {
     "iopub.execute_input": "2021-09-07T19:31:07.197277Z",
     "iopub.status.busy": "2021-09-07T19:31:07.196560Z",
     "iopub.status.idle": "2021-09-07T19:31:07.206556Z",
     "shell.execute_reply": "2021-09-07T19:31:07.205740Z",
     "shell.execute_reply.started": "2021-09-07T19:29:17.795928Z"
    },
    "papermill": {
     "duration": 0.04822,
     "end_time": "2021-09-07T19:31:07.206776",
     "exception": false,
     "start_time": "2021-09-07T19:31:07.158556",
     "status": "completed"
    },
    "tags": []
   },
   "outputs": [
    {
     "name": "stdout",
     "output_type": "stream",
     "text": [
      "MAE: 0.46979457106703887\n",
      "MSE: 0.3536432777633594\n",
      "RMSE: 0.5946791384968532\n"
     ]
    }
   ],
   "source": [
    "print('MAE:', metrics.mean_absolute_error(y_test, y_pred))\n",
    "print('MSE:', metrics.mean_squared_error(y_test, y_pred))\n",
    "print('RMSE:', np.sqrt(metrics.mean_squared_error(y_test, y_pred)))\n"
   ]
  },
  {
   "cell_type": "code",
   "execution_count": 22,
   "id": "8b96ad97",
   "metadata": {
    "execution": {
     "iopub.execute_input": "2021-09-07T19:31:07.301422Z",
     "iopub.status.busy": "2021-09-07T19:31:07.291061Z",
     "iopub.status.idle": "2021-09-07T19:31:07.306537Z",
     "shell.execute_reply": "2021-09-07T19:31:07.308432Z",
     "shell.execute_reply.started": "2021-09-07T19:29:17.817966Z"
    },
    "papermill": {
     "duration": 0.06525,
     "end_time": "2021-09-07T19:31:07.308947",
     "exception": false,
     "start_time": "2021-09-07T19:31:07.243697",
     "status": "completed"
    },
    "tags": []
   },
   "outputs": [
    {
     "name": "stdout",
     "output_type": "stream",
     "text": [
      "<bound method NDFrame.head of       fixed acidity  volatile acidity  citric acid  residual sugar  chlorides  \\\n",
      "1237            7.1             0.750         0.01             2.2      0.059   \n",
      "567             8.7             0.700         0.24             2.5      0.226   \n",
      "461             8.3             0.615         0.22             2.6      0.087   \n",
      "1238            8.1             0.730         0.00             2.5      0.081   \n",
      "454             7.0             0.230         0.40             1.6      0.063   \n",
      "...             ...               ...          ...             ...        ...   \n",
      "1512            6.4             0.790         0.04             2.2      0.061   \n",
      "950             8.9             0.120         0.45             1.8      0.075   \n",
      "1064            8.2             0.740         0.09             2.0      0.067   \n",
      "742             6.5             0.615         0.00             1.9      0.065   \n",
      "595             8.9             0.595         0.41             7.9      0.086   \n",
      "\n",
      "      free sulfur dioxide  total sulfur dioxide  density    pH  sulphates  \\\n",
      "1237                 11.0                  18.0  0.99242  3.39       0.40   \n",
      "567                   5.0                  15.0  0.99910  3.32       0.60   \n",
      "461                   6.0                  19.0  0.99820  3.26       0.61   \n",
      "1238                 12.0                  24.0  0.99798  3.38       0.46   \n",
      "454                  21.0                  67.0  0.99520  3.50       0.63   \n",
      "...                   ...                   ...      ...   ...        ...   \n",
      "1512                 11.0                  17.0  0.99588  3.53       0.65   \n",
      "950                  10.0                  21.0  0.99552  3.41       0.76   \n",
      "1064                  5.0                  10.0  0.99418  3.28       0.57   \n",
      "742                   9.0                  18.0  0.99720  3.46       0.65   \n",
      "595                  30.0                 109.0  0.99980  3.27       0.57   \n",
      "\n",
      "      alcohol  \n",
      "1237     12.8  \n",
      "567       9.0  \n",
      "461       9.3  \n",
      "1238      9.6  \n",
      "454      11.1  \n",
      "...       ...  \n",
      "1512     10.4  \n",
      "950      11.9  \n",
      "1064     11.8  \n",
      "742       9.2  \n",
      "595       9.3  \n",
      "\n",
      "[1119 rows x 11 columns]>\n",
      "R squared:  0.34106312947193873\n"
     ]
    }
   ],
   "source": [
    "print(X_train.head)\n",
    "\n",
    "R_square = lm.score(X_train,y_train)\n",
    "print('R squared: ',R_square)"
   ]
  },
  {
   "cell_type": "code",
   "execution_count": 23,
   "id": "718726ab",
   "metadata": {
    "execution": {
     "iopub.execute_input": "2021-09-07T19:31:07.437518Z",
     "iopub.status.busy": "2021-09-07T19:31:07.436562Z",
     "iopub.status.idle": "2021-09-07T19:31:07.440411Z",
     "shell.execute_reply": "2021-09-07T19:31:07.440906Z",
     "shell.execute_reply.started": "2021-09-07T19:29:17.856748Z"
    },
    "papermill": {
     "duration": 0.065837,
     "end_time": "2021-09-07T19:31:07.441085",
     "exception": false,
     "start_time": "2021-09-07T19:31:07.375248",
     "status": "completed"
    },
    "tags": []
   },
   "outputs": [
    {
     "data": {
      "text/plain": [
       "1.517596062273183"
      ]
     },
     "execution_count": 23,
     "metadata": {},
     "output_type": "execute_result"
    }
   ],
   "source": [
    "# Check for Multicollinearity\n",
    "#Variance Inflation Factor\n",
    "VIF = 1/(1- R_square)\n",
    "VIF"
   ]
  },
  {
   "cell_type": "code",
   "execution_count": 24,
   "id": "5f3955a9",
   "metadata": {
    "execution": {
     "iopub.execute_input": "2021-09-07T19:31:07.515988Z",
     "iopub.status.busy": "2021-09-07T19:31:07.515041Z",
     "iopub.status.idle": "2021-09-07T19:31:08.036426Z",
     "shell.execute_reply": "2021-09-07T19:31:08.036936Z",
     "shell.execute_reply.started": "2021-09-07T19:29:17.866755Z"
    },
    "papermill": {
     "duration": 0.560669,
     "end_time": "2021-09-07T19:31:08.037159",
     "exception": false,
     "start_time": "2021-09-07T19:31:07.476490",
     "status": "completed"
    },
    "tags": []
   },
   "outputs": [
    {
     "name": "stderr",
     "output_type": "stream",
     "text": [
      "/opt/conda/lib/python3.7/site-packages/seaborn/_decorators.py:43: FutureWarning: Pass the following variables as keyword args: x, y. From version 0.12, the only valid positional argument will be `data`, and passing other arguments without an explicit keyword will result in an error or misinterpretation.\n",
      "  FutureWarning\n",
      "/opt/conda/lib/python3.7/site-packages/seaborn/distributions.py:2557: FutureWarning: `distplot` is a deprecated function and will be removed in a future version. Please adapt your code to use either `displot` (a figure-level function with similar flexibility) or `histplot` (an axes-level function for histograms).\n",
      "  warnings.warn(msg, FutureWarning)\n"
     ]
    },
    {
     "data": {
      "image/png": "[encoded data removed]",
      "text/plain": [
       "<Figure size 1008x360 with 2 Axes>"
      ]
     },
     "metadata": {
      "needs_background": "light"
     },
     "output_type": "display_data"
    }
   ],
   "source": [
    "# Check for Linearity\n",
    "f = plt.figure(figsize=(14,5))\n",
    "ax = f.add_subplot(121)\n",
    "sns.scatterplot(y_test,y_pred,ax=ax,color='r')\n",
    "ax.set_title('Check for Linearity:\\n Actual Vs Predicted value')\n",
    "\n",
    "# Check for Residual normality & mean\n",
    "ax = f.add_subplot(122)\n",
    "sns.distplot((y_test - y_pred),ax=ax,color='b')\n",
    "ax.axvline((y_test - y_pred).mean(),color='k',linestyle='--')\n",
    "ax.set_title('Check for Residual normality & mean: \\n Residual eror');"
   ]
  },
  {
   "cell_type": "code",
   "execution_count": 25,
   "id": "fab28c73",
   "metadata": {
    "execution": {
     "iopub.execute_input": "2021-09-07T19:31:08.143834Z",
     "iopub.status.busy": "2021-09-07T19:31:08.140589Z",
     "iopub.status.idle": "2021-09-07T19:31:08.497473Z",
     "shell.execute_reply": "2021-09-07T19:31:08.498042Z",
     "shell.execute_reply.started": "2021-09-07T19:29:18.399624Z"
    },
    "papermill": {
     "duration": 0.422305,
     "end_time": "2021-09-07T19:31:08.498253",
     "exception": false,
     "start_time": "2021-09-07T19:31:08.075948",
     "status": "completed"
    },
    "tags": []
   },
   "outputs": [
    {
     "data": {
      "image/png": "[encoded data removed]",
      "text/plain": [
       "<Figure size 1008x432 with 2 Axes>"
      ]
     },
     "metadata": {
      "needs_background": "light"
     },
     "output_type": "display_data"
    }
   ],
   "source": [
    "# Check for Multivariate Normality\n",
    "# Quantile-Quantile plot \n",
    "f,ax = plt.subplots(1,2,figsize=(14,6))\n",
    "import scipy as sp\n",
    "_,(_,_,r)= sp.stats.probplot((y_test - y_pred),fit=True,plot=ax[0])\n",
    "ax[0].set_title('Check for Multivariate Normality: \\nQ-Q Plot')\n",
    "\n",
    "#Check for Homoscedasticity\n",
    "sns.scatterplot(y = (y_test - y_pred), x= y_pred, ax = ax[1],color='r') \n",
    "ax[1].set_title('Check for Homoscedasticity: \\nResidual Vs Predicted');"
   ]
  },
  {
   "cell_type": "code",
   "execution_count": null,
   "id": "831c40f2",
   "metadata": {
    "papermill": {
     "duration": 0.05064,
     "end_time": "2021-09-07T19:31:08.589137",
     "exception": false,
     "start_time": "2021-09-07T19:31:08.538497",
     "status": "completed"
    },
    "tags": []
   },
   "outputs": [],
   "source": []
  }
 ],
 "metadata": {
  "kernelspec": {
   "display_name": "Python 3",
   "language": "python",
   "name": "python3"
  },
  "language_info": {
   "codemirror_mode": {
    "name": "ipython",
    "version": 3
   },
   "file_extension": ".py",
   "mimetype": "text/x-python",
   "name": "python",
   "nbconvert_exporter": "python",
   "pygments_lexer": "ipython3",
   "version": "3.7.10"
  },
  "papermill": {
   "default_parameters": {},
   "duration": 17.855157,
   "end_time": "2021-09-07T19:31:10.244772",
   "environment_variables": {},
   "exception": null,
   "input_path": "__notebook__.ipynb",
   "output_path": "__notebook__.ipynb",
   "parameters": {},
   "start_time": "2021-09-07T19:30:52.389615",
   "version": "2.3.3"
  }
 },
 "nbformat": 4,
 "nbformat_minor": 5
}
